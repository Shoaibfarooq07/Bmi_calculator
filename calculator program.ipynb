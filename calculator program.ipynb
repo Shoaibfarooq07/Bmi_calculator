{
 "cells": [
  {
   "cell_type": "markdown",
   "id": "2e0de6f3-8f36-4839-9520-e1c060648173",
   "metadata": {},
   "source": [
    "PYTHON CALCULATOR PROGRAM :"
   ]
  },
  {
   "cell_type": "code",
   "execution_count": null,
   "id": "a34f6438-6acb-410e-bfa0-6d520cbdf108",
   "metadata": {},
   "outputs": [
    {
     "name": "stdout",
     "output_type": "stream",
     "text": [
      "select option\n",
      "1.addition\n",
      "2.subtraction\n",
      "3.multiplication\n",
      "4.division\n"
     ]
    },
    {
     "name": "stdin",
     "output_type": "stream",
     "text": [
      "enter between 1/2/3/4 78\n"
     ]
    }
   ],
   "source": [
    "def add (a,b):\n",
    "    return a+b\n",
    "\n",
    "def sub (a,b):\n",
    "    return a-b\n",
    "\n",
    "def mult (a,b):\n",
    "    return a*b\n",
    "\n",
    "def div (a,b):\n",
    "    return a/b\n",
    "print(\"select option\")\n",
    "print(\"1.addition\")\n",
    "print(\"2.subtraction\")\n",
    "print(\"3.multiplication\")\n",
    "print(\"4.division\")\n",
    "\n",
    "choice = int(input(\"enter between 1/2/3/4\"))\n",
    "\n",
    "a = float(input(\"enter the number:\"))\n",
    "b= float(input(\"enter the number:\"))\n",
    "\n",
    "if choice==1:\n",
    "    print(\"addition of number\",add(a,b))\n",
    "elif choice==2:\n",
    "    print(\"subtraction of number\",sub(a,b))\n",
    "elif choice==3:\n",
    "    print(\"multiplication of number\",mult(a,b))\n",
    "elif choice==4:\n",
    "    print(\"division of number\",div(a,b))\n",
    "else:\n",
    "    print(\"wrong input\")"
   ]
  },
  {
   "cell_type": "code",
   "execution_count": null,
   "id": "d72e74fb-ac8e-44c6-9e0c-830c0a3740cd",
   "metadata": {},
   "outputs": [],
   "source": []
  }
 ],
 "metadata": {
  "kernelspec": {
   "display_name": "Python [conda env:anaconda]",
   "language": "python",
   "name": "conda-env-anaconda-py"
  },
  "language_info": {
   "codemirror_mode": {
    "name": "ipython",
    "version": 3
   },
   "file_extension": ".py",
   "mimetype": "text/x-python",
   "name": "python",
   "nbconvert_exporter": "python",
   "pygments_lexer": "ipython3",
   "version": "3.12.7"
  }
 },
 "nbformat": 4,
 "nbformat_minor": 5
}
